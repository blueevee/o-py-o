{
  "nbformat": 4,
  "nbformat_minor": 0,
  "metadata": {
    "kernelspec": {
      "display_name": "Python 3",
      "language": "python",
      "name": "python3"
    },
    "language_info": {
      "codemirror_mode": {
        "name": "ipython",
        "version": 3
      },
      "file_extension": ".py",
      "mimetype": "text/x-python",
      "name": "python",
      "nbconvert_exporter": "python",
      "pygments_lexer": "ipython3",
      "version": "3.6.10"
    },
    "colab": {
      "name": "modulo-1-introducao.ipynb",
      "provenance": []
    }
  },
  "cells": [
    {
      "cell_type": "markdown",
      "metadata": {
        "id": "yQ3qhvJ06NeA",
        "colab_type": "text"
      },
      "source": [
        "<img src=\"https://github.com/blueevee/o-py-o/blob/master/imagens/1.png?raw=1\">\n",
        "\n",
        "## Revisando o conteúdo da semana!"
      ]
    },
    {
      "cell_type": "markdown",
      "metadata": {
        "id": "9llxYQqB6NeB",
        "colab_type": "text"
      },
      "source": [
        "1 - Em uma instrução print, o que acontece se você omitir um dos parênteses ou ambos?"
      ]
    },
    {
      "cell_type": "code",
      "metadata": {
        "id": "3DxIuRH_6zfB",
        "colab_type": "code",
        "colab": {
          "base_uri": "https://localhost:8080/",
          "height": 130
        },
        "outputId": "14fb1264-0fc0-42f1-acbb-074bc445ff85"
      },
      "source": [
        "print \"Alô, alô\""
      ],
      "execution_count": 1,
      "outputs": [
        {
          "output_type": "error",
          "ename": "SyntaxError",
          "evalue": "ignored",
          "traceback": [
            "\u001b[0;36m  File \u001b[0;32m\"<ipython-input-1-5553f8e5800c>\"\u001b[0;36m, line \u001b[0;32m1\u001b[0m\n\u001b[0;31m    print \"Alô, alô\"\u001b[0m\n\u001b[0m                   ^\u001b[0m\n\u001b[0;31mSyntaxError\u001b[0m\u001b[0;31m:\u001b[0m Missing parentheses in call to 'print'. Did you mean print(\"Alô, alô\")?\n"
          ]
        }
      ]
    },
    {
      "cell_type": "code",
      "metadata": {
        "id": "uYUZjneI6NeC",
        "colab_type": "code",
        "colab": {
          "base_uri": "https://localhost:8080/",
          "height": 130
        },
        "outputId": "7fa7fdb7-560a-4835-e230-f516b082a913"
      },
      "source": [
        "print(\"40tenadas\""
      ],
      "execution_count": 2,
      "outputs": [
        {
          "output_type": "error",
          "ename": "SyntaxError",
          "evalue": "ignored",
          "traceback": [
            "\u001b[0;36m  File \u001b[0;32m\"<ipython-input-2-dc4d548d0afd>\"\u001b[0;36m, line \u001b[0;32m1\u001b[0m\n\u001b[0;31m    print(\"40tenadas\"\u001b[0m\n\u001b[0m                     ^\u001b[0m\n\u001b[0;31mSyntaxError\u001b[0m\u001b[0;31m:\u001b[0m unexpected EOF while parsing\n"
          ]
        }
      ]
    },
    {
      "cell_type": "markdown",
      "metadata": {
        "id": "rnUnKFiY6NeK",
        "colab_type": "text"
      },
      "source": [
        "2 - O que acontece se puser um sinal de mais antes de um número? E se escrever assim: 2++2?"
      ]
    },
    {
      "cell_type": "code",
      "metadata": {
        "id": "Lp8N3vXx6NeK",
        "colab_type": "code",
        "colab": {
          "base_uri": "https://localhost:8080/",
          "height": 34
        },
        "outputId": "345bc48e-50af-4981-c61a-e3ea781ff8c0"
      },
      "source": [
        "print(+2)"
      ],
      "execution_count": 3,
      "outputs": [
        {
          "output_type": "stream",
          "text": [
            "2\n"
          ],
          "name": "stdout"
        }
      ]
    },
    {
      "cell_type": "code",
      "metadata": {
        "id": "lfIismRs7Dq8",
        "colab_type": "code",
        "colab": {
          "base_uri": "https://localhost:8080/",
          "height": 34
        },
        "outputId": "756a508f-815e-4dc0-a572-de0fe1f37fa5"
      },
      "source": [
        "print(2++2)"
      ],
      "execution_count": 4,
      "outputs": [
        {
          "output_type": "stream",
          "text": [
            "4\n"
          ],
          "name": "stdout"
        }
      ]
    },
    {
      "cell_type": "markdown",
      "metadata": {
        "id": "Mxcw8uco6NeN",
        "colab_type": "text"
      },
      "source": [
        "3 - O que acontece se você tentar usar 02 isso no Python?"
      ]
    },
    {
      "cell_type": "code",
      "metadata": {
        "id": "wjNcG5mm6NeO",
        "colab_type": "code",
        "colab": {
          "base_uri": "https://localhost:8080/",
          "height": 130
        },
        "outputId": "80ece2d9-3c69-4d8b-8b8d-f6b949ee8c15"
      },
      "source": [
        "print(02)"
      ],
      "execution_count": 5,
      "outputs": [
        {
          "output_type": "error",
          "ename": "SyntaxError",
          "evalue": "ignored",
          "traceback": [
            "\u001b[0;36m  File \u001b[0;32m\"<ipython-input-5-87a844b0eb76>\"\u001b[0;36m, line \u001b[0;32m1\u001b[0m\n\u001b[0;31m    print(02)\u001b[0m\n\u001b[0m           ^\u001b[0m\n\u001b[0;31mSyntaxError\u001b[0m\u001b[0;31m:\u001b[0m invalid token\n"
          ]
        }
      ]
    },
    {
      "cell_type": "markdown",
      "metadata": {
        "id": "t51JcWwr6NeR",
        "colab_type": "text"
      },
      "source": [
        "4 - Quantos segundos há em 42 minutos e 42 segundos?"
      ]
    },
    {
      "cell_type": "code",
      "metadata": {
        "id": "kDgwTeGC6NeS",
        "colab_type": "code",
        "colab": {
          "base_uri": "https://localhost:8080/",
          "height": 34
        },
        "outputId": "9c798f31-92c0-47e1-9657-ebf2345c19ac"
      },
      "source": [
        "minuto = 60\n",
        "minutos_42 = 42*minuto\n",
        "\n",
        "print(\"Existem {} segundos em 42 minutos e 42 segundos\".format(minutos_42 + 42))"
      ],
      "execution_count": 7,
      "outputs": [
        {
          "output_type": "stream",
          "text": [
            "Existem 2562 segundos em 42 minutos e 42 segundos\n"
          ],
          "name": "stdout"
        }
      ]
    },
    {
      "cell_type": "markdown",
      "metadata": {
        "id": "8EOQW3J76NeV",
        "colab_type": "text"
      },
      "source": [
        "5 - Vimos que n = 42 é legal. E 42 = n?"
      ]
    },
    {
      "cell_type": "code",
      "metadata": {
        "id": "KiZ-Dub66NeW",
        "colab_type": "code",
        "colab": {
          "base_uri": "https://localhost:8080/",
          "height": 130
        },
        "outputId": "8a930fba-f5ba-42e7-ce0f-cd32909fd748"
      },
      "source": [
        "42 = n"
      ],
      "execution_count": 8,
      "outputs": [
        {
          "output_type": "error",
          "ename": "SyntaxError",
          "evalue": "ignored",
          "traceback": [
            "\u001b[0;36m  File \u001b[0;32m\"<ipython-input-8-f0c37ed646fc>\"\u001b[0;36m, line \u001b[0;32m1\u001b[0m\n\u001b[0;31m    42 = n\u001b[0m\n\u001b[0m          ^\u001b[0m\n\u001b[0;31mSyntaxError\u001b[0m\u001b[0;31m:\u001b[0m can't assign to literal\n"
          ]
        }
      ]
    },
    {
      "cell_type": "markdown",
      "metadata": {
        "id": "R1zlA9_e6Nea",
        "colab_type": "text"
      },
      "source": [
        "6 - Ou x = y = 1?\n"
      ]
    },
    {
      "cell_type": "code",
      "metadata": {
        "id": "LPDuFxCV6Neb",
        "colab_type": "code",
        "colab": {
          "base_uri": "https://localhost:8080/",
          "height": 51
        },
        "outputId": "66b8d681-1e06-487b-97c5-a7cdc31850bc"
      },
      "source": [
        " x = y = 1\n",
        "\n",
        " print(\"X\",x)\n",
        " print(\"Y\",y)"
      ],
      "execution_count": 13,
      "outputs": [
        {
          "output_type": "stream",
          "text": [
            "X 1\n",
            "Y 1\n"
          ],
          "name": "stdout"
        }
      ]
    },
    {
      "cell_type": "markdown",
      "metadata": {
        "id": "L_gQZU906Ned",
        "colab_type": "text"
      },
      "source": [
        "7 - O que acontece se você puser um ponto e vírgula no fim de uma instrução no Python? E um ponto?"
      ]
    },
    {
      "cell_type": "code",
      "metadata": {
        "id": "0Xdot3fG6Nee",
        "colab_type": "code",
        "colab": {
          "base_uri": "https://localhost:8080/",
          "height": 51
        },
        "outputId": "2d97dd68-3749-4174-f808-5edeef8711d6"
      },
      "source": [
        "ponto_no_final = 2 + 2.\n",
        "\n",
        "C = \"tá achando que eu sou C amadah?\";\n",
        "\n",
        "print(\"COM PONTO:\", ponto_no_final)\n",
        "print(\"PONTO E VÍRGULA:\", C)"
      ],
      "execution_count": 18,
      "outputs": [
        {
          "output_type": "stream",
          "text": [
            "COM PONTO: 4.0\n",
            "PONTO E VÍRGULA: tá achando que eu sou C amadah?\n"
          ],
          "name": "stdout"
        }
      ]
    },
    {
      "cell_type": "markdown",
      "metadata": {
        "id": "Z-J1_Ckd6Neh",
        "colab_type": "text"
      },
      "source": [
        "8 - Em notação matemática é possível multiplicar x e y desta forma: xy. O que acontece se você tentar fazer o mesmo no Python?"
      ]
    },
    {
      "cell_type": "code",
      "metadata": {
        "id": "iXfyunhg6Neh",
        "colab_type": "code",
        "colab": {
          "base_uri": "https://localhost:8080/",
          "height": 198
        },
        "outputId": "d05d18d5-3d1f-40da-d58f-60cf2739597f"
      },
      "source": [
        "x = 2\n",
        "y = 3\n",
        "\n",
        "print(xy)"
      ],
      "execution_count": 19,
      "outputs": [
        {
          "output_type": "error",
          "ename": "NameError",
          "evalue": "ignored",
          "traceback": [
            "\u001b[0;31m---------------------------------------------------------------------------\u001b[0m",
            "\u001b[0;31mNameError\u001b[0m                                 Traceback (most recent call last)",
            "\u001b[0;32m<ipython-input-19-af72a3893238>\u001b[0m in \u001b[0;36m<module>\u001b[0;34m()\u001b[0m\n\u001b[1;32m      2\u001b[0m \u001b[0my\u001b[0m \u001b[0;34m=\u001b[0m \u001b[0;36m3\u001b[0m\u001b[0;34m\u001b[0m\u001b[0;34m\u001b[0m\u001b[0m\n\u001b[1;32m      3\u001b[0m \u001b[0;34m\u001b[0m\u001b[0m\n\u001b[0;32m----> 4\u001b[0;31m \u001b[0mprint\u001b[0m\u001b[0;34m(\u001b[0m\u001b[0mxy\u001b[0m\u001b[0;34m)\u001b[0m\u001b[0;34m\u001b[0m\u001b[0;34m\u001b[0m\u001b[0m\n\u001b[0m",
            "\u001b[0;31mNameError\u001b[0m: name 'xy' is not defined"
          ]
        }
      ]
    },
    {
      "cell_type": "markdown",
      "metadata": {
        "id": "oJYnF9976Nek",
        "colab_type": "text"
      },
      "source": [
        "---"
      ]
    },
    {
      "cell_type": "markdown",
      "metadata": {
        "id": "1ntICsQY6Nek",
        "colab_type": "text"
      },
      "source": [
        "## Quais são as outras formas de praticar esses conceitos?\n",
        "\n",
        "<img src=\"https://media.giphy.com/media/2wS8Hh619rZvvf95op/giphy.gif\" align=\"left\">"
      ]
    },
    {
      "cell_type": "markdown",
      "metadata": {
        "id": "R0DZXhVJ6Nek",
        "colab_type": "text"
      },
      "source": [
        "### Leia um valor inteiro. A seguir, calcule o menor número de notas possíveis (cédulas) no qual o valor pode ser decomposto. As notas consideradas são de **100, 50, 20, 10, 5, 2 e 1**. Imprima o valor lido e, em seguida, a quantidade mínima de notas de cada tipo necessárias, conforme o exemplo fornecido abaixo.\n"
      ]
    },
    {
      "cell_type": "code",
      "metadata": {
        "id": "aeD29plM-NyL",
        "colab_type": "code",
        "colab": {
          "base_uri": "https://localhost:8080/",
          "height": 204
        },
        "outputId": "e922d882-7ef6-4264-d254-244a1da56e69"
      },
      "source": [
        "print(\"Digite um número inteiro:\")\n",
        "valor = int(input())\n",
        "\n",
        "print(\"_\"*25)\n",
        "print(\"R$\",valor)\n",
        "\n",
        "notas_100 = valor // 100\n",
        "valor = valor - notas_100*100\n",
        "\n",
        "notas_50 = valor // 50\n",
        "valor = valor - notas_50*50\n",
        "\n",
        "notas_20 = valor // 20\n",
        "valor = valor - notas_20*20\n",
        "\n",
        "notas_10 = valor // 10\n",
        "valor = valor - notas_10*10\n",
        "\n",
        "notas_5 = valor // 5\n",
        "valor = valor - notas_5*5\n",
        "\n",
        "notas_2 = valor // 2\n",
        "valor = valor - notas_2*2\n",
        "\n",
        "moeda_1 = valor // 1\n",
        "valor = valor - moeda_1*1\n",
        "\n",
        "print('{} nota(s) de R$ 100,00'.format(notas_100))\n",
        "print('{} nota(s) de R$ 50,00'.format(notas_50))\n",
        "print('{} nota(s) de R$ 20,00'.format(notas_20))\n",
        "print('{} nota(s) de R$ 10,00'.format(notas_10))\n",
        "print('{} nota(s) de R$ 5,00'.format(notas_5))\n",
        "# vírgula funciona da mesma forma\n",
        "print(notas_2, 'nota(s) de R$ 2,00')\n",
        "# Usando o format com variável\n",
        "print('{moeda} moeda(s) de R$ 1,00'.format(moeda=moeda_1))"
      ],
      "execution_count": 20,
      "outputs": [
        {
          "output_type": "stream",
          "text": [
            "Digite um número inteiro:\n",
            "12345\n",
            "_________________________\n",
            "R$ 12345\n",
            "123 nota(s) de R$ 100,00\n",
            "0 nota(s) de R$ 50,00\n",
            "2 nota(s) de R$ 20,00\n",
            "0 nota(s) de R$ 10,00\n",
            "1 nota(s) de R$ 5,00\n",
            "0 nota(s) de R$ 2,00\n",
            "0 moeda(s) de R$ 1,00\n"
          ],
          "name": "stdout"
        }
      ]
    },
    {
      "cell_type": "markdown",
      "metadata": {
        "id": "N7YOP2nLA0Dv",
        "colab_type": "text"
      },
      "source": [
        "## Lembrete! "
      ]
    },
    {
      "cell_type": "code",
      "metadata": {
        "id": "Ascj0av0Amek",
        "colab_type": "code",
        "colab": {
          "base_uri": "https://localhost:8080/",
          "height": 102
        },
        "outputId": "29b644fa-63da-4db3-e202-bafebfe707df"
      },
      "source": [
        "# floor division, Retorna a parte inteira da divisão\n",
        "\n",
        "print(\"O Resultado inteiro de 10/2:\",10 // 2)\n",
        "print(\"O Resultado inteiro de 15/2:\",15 // 2)\n",
        "\n",
        "# MOD, Retorna o RESTO da divisão\n",
        "\n",
        "print(\"\\nO Resto de 10/2:\",10 % 2)\n",
        "print(\"O Resto de 15/2:\",15 % 2)\n",
        "\n"
      ],
      "execution_count": 23,
      "outputs": [
        {
          "output_type": "stream",
          "text": [
            "O Resultado inteiro de 10/2: 5\n",
            "O Resultado inteiro de 15/2: 7\n",
            "\n",
            "O Resto de 10/2: 0\n",
            "O Resto de 15/2: 1\n"
          ],
          "name": "stdout"
        }
      ]
    },
    {
      "cell_type": "markdown",
      "metadata": {
        "id": "Y3lCEF5pCPms",
        "colab_type": "text"
      },
      "source": [
        "### Como aproximar ou arredondar números decimais"
      ]
    },
    {
      "cell_type": "code",
      "metadata": {
        "id": "uv1AnSuSCN-I",
        "colab_type": "code",
        "colab": {
          "base_uri": "https://localhost:8080/",
          "height": 68
        },
        "outputId": "96bbd6c7-781d-460b-a909-7ab031b1dbd2"
      },
      "source": [
        "from math import ceil, floor  \n",
        "value = 1.45299759\n",
        "\n",
        "print(\"Arredondado de\", value,\"pra baixo (minimo):\",floor(value))\n",
        "#    Format por ordem   =============>       valor 0 , valor 1\n",
        "print(\"Arredondado {1} pra cima (teto): {0}\".format(ceil(value), value))\n",
        "\n",
        "print(\"Limitar casas decimais com o format: {0:.2f}\".format(value))\n"
      ],
      "execution_count": 33,
      "outputs": [
        {
          "output_type": "stream",
          "text": [
            "Arredondado de 1.45299759 pra baixo (minimo): 1\n",
            "Arredondado 1.45299759 pra cima (teto): 2\n",
            "Limitar casas decimais com o format: 1.45\n"
          ],
          "name": "stdout"
        }
      ]
    }
  ]
}